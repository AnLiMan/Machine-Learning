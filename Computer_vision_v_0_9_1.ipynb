{
  "nbformat": 4,
  "nbformat_minor": 0,
  "metadata": {
    "colab": {
      "name": "Computer vision v 0.9.1.ipynb",
      "provenance": [],
      "collapsed_sections": [
        "FLDzRewe5lj3",
        "KD-ww2BQnl5-",
        "6nEQB83Dy3zK"
      ],
      "toc_visible": true,
      "include_colab_link": true
    },
    "kernelspec": {
      "display_name": "deepn",
      "language": "python",
      "name": "deepn"
    },
    "language_info": {
      "codemirror_mode": {
        "name": "ipython",
        "version": 3
      },
      "file_extension": ".py",
      "mimetype": "text/x-python",
      "name": "python",
      "nbconvert_exporter": "python",
      "pygments_lexer": "ipython3",
      "version": "3.7.7"
    }
  },
  "cells": [
    {
      "cell_type": "markdown",
      "metadata": {
        "id": "view-in-github",
        "colab_type": "text"
      },
      "source": [
        "<a href=\"https://colab.research.google.com/github/AnLiMan/Recognition-of-defects-on-the-metal-surface/blob/main/Computer_vision_v_0_9_1.ipynb\" target=\"_parent\"><img src=\"https://colab.research.google.com/assets/colab-badge.svg\" alt=\"Open In Colab\"/></a>"
      ]
    },
    {
      "cell_type": "markdown",
      "metadata": {
        "id": "SHi7gpijcO4p"
      },
      "source": [
        "#Инструкция по работе\n",
        "- Если обученная нейросеть с сохранённой моделью отсутствует, то прогоняем все ячейки последовательно. Для сохранения модели изменяем значение \"number_of_interations\" в 1-й ячейке на то, которое хотим. Сохраняется всё по адресу, который указан в ячейке \"Обучение нейросети\".\n",
        "- В случае если имеется уже обученная и сохранённая модель запускаем все ячейки, кроме \"Обучение нейросети\", на ошибки в некоторых блоках не обращаем внимания. Порядковый номер модели находится в параметр \"number_of_interations\" в 1-й ячейке.\n",
        "- Глава \"Визуализация предсказаний\" показывает 16 случайно выбранных изображений из тестовой выборки, проверить каждое изображение отдельно можно в ячейке \"тест программы\"\n",
        "-Для первых 6 итераций ипользовался датасет NEU2, для последующих NEU3. Для выбора того или иного датасета в ячейке \"Определение данных для тестирования и создание архитектуры нейросети\", в строке 10 исправить конечный архив на NEU2 или NEU3, а также при определении архитектуры сети вставить строчку: \"tf.keras.layers.Dense(7, activation='softmax')\"\n",
        "\n",
        "by AnLi\n",
        "\n",
        "#Результаты тестов\n",
        "Для NEU2. Датасет включает в себя по 300 изображений 6 дефектов: царапины, вдавленные окалины, пятна, волосные трещины, рябизна; посторонние включения. Соотношение тренировочной выборки к тестовой = 91,67% к 8,33%\n",
        "\n",
        "- 1 Итерация.\n",
        "loss: 0.2532 - accuracy: 0.9254 - val_loss: 0.4438 - val_accuracy: 0.8974\n",
        "- 2 Итерация.\n",
        "loss: 0.3809 - accuracy: 0.8973 - val_loss: 0.9834 - val_accuracy: 0.8333\n",
        "- 3 Итерация.\n",
        "loss: 0.6127 - accuracy: 0.8133 - val_loss: 0.5532 - val_accuracy: 0.8077\n",
        "- 4 Итерация.\n",
        "loss: 0.3549 - accuracy: 0.9186 - val_loss: 0.3244 - val_accuracy: 0.8846\n",
        "- 5 Итерация.\n",
        "loss: 0.2655 - accuracy: 0.9182 - val_loss: 0.5352 - val_accuracy: 0.8462\n",
        "- 6 Итерация.\n",
        "loss: 0.2637 - accuracy: 0.9333 - val_loss: 0.4073 - val_accuracy: 0.9359\n",
        "\n",
        "Для NEU3. Датасет включает в себя по 300 изображений 6 дефектов: царапины, вдавленные окалины, пятна, волосные трещины, рябизна; посторонние включения, а также 300 изображений чистой поверхности металла. Соотношение тренировочной выборки к тестовой = 91,67% к 8,33%\n",
        "\n",
        "- 7 Итерация.\n",
        "loss: 0.3305 - accuracy: 0.9009 - val_loss: 1.2706 - val_accuracy: 0.8132\n",
        "- 8 Итерация.\n",
        "loss: 0.2722 - accuracy: 0.9158 - val_loss: 0.8443 - val_accuracy: 0.7912\n",
        "- 9 Итерация.\n",
        "loss: 0.2344 - accuracy: 0.9212 - val_loss: 0.7103 - val_accuracy: 0.8901\n",
        "- 10 Итерация. \n",
        "loss: 0.1998 - accuracy: 0.9548 - val_loss: 0.8002 - val_accuracy: 0.9231"
      ]
    },
    {
      "cell_type": "markdown",
      "metadata": {
        "id": "PB5OgbEoxgYV"
      },
      "source": [
        "#Подключение библиотек, гугл диска и определение текущего номера итерации"
      ]
    },
    {
      "cell_type": "code",
      "metadata": {
        "colab": {
          "base_uri": "https://localhost:8080/"
        },
        "id": "dxJHwC8Dl14R",
        "outputId": "8b9544d2-9994-4821-ac68-94458a7a6f38"
      },
      "source": [
        "from google.colab import drive\n",
        "drive.mount('/content/drive')\n",
        "number_of_interations = 10\n",
        "print('Текущий номер для сохранения модели, чекпоинтов, а также загрузки существующей модели с облака: ', number_of_interations)"
      ],
      "execution_count": 1,
      "outputs": [
        {
          "output_type": "stream",
          "text": [
            "Mounted at /content/drive\n",
            "Текущий номер для сохранения модели, чекпоинтов, а также загрузки существующей модели с облака:  10\n"
          ],
          "name": "stdout"
        }
      ]
    },
    {
      "cell_type": "code",
      "metadata": {
        "colab": {
          "base_uri": "https://localhost:8080/"
        },
        "id": "8TnHaU2At0qR",
        "outputId": "3931dfab-55c9-4735-9a8c-6cddb52054a3"
      },
      "source": [
        "import zipfile\n",
        "import os\n",
        "import tensorflow as tf\n",
        "from tensorflow.keras.optimizers import RMSprop\n",
        "from tensorflow.keras.preprocessing.image import ImageDataGenerator\n",
        "from tensorflow import keras\n",
        "from __future__ import absolute_import, division, print_function, unicode_literals\n",
        "import time\n",
        "\n",
        "!pip install -q pyyaml h5py  # Требуется для сохранения модели в формате HDF5\n",
        "zip_file = '/content/drive/My Drive/Files for colab/NEU3.zip'\n",
        "z = zipfile.ZipFile(zip_file, 'r')\n",
        "z.extractall()\n",
        "print(os.listdir)"
      ],
      "execution_count": 2,
      "outputs": [
        {
          "output_type": "stream",
          "text": [
            "<built-in function listdir>\n"
          ],
          "name": "stdout"
        }
      ]
    },
    {
      "cell_type": "markdown",
      "metadata": {
        "id": "i2lIQTWLIUp1"
      },
      "source": [
        "#Определение данных для тестирования и создание архитектуры нейросети"
      ]
    },
    {
      "cell_type": "code",
      "metadata": {
        "colab": {
          "base_uri": "https://localhost:8080/"
        },
        "id": "bMVqUBXQIUp1",
        "outputId": "548c6c09-9ab6-4351-c6f0-90daffa80b65"
      },
      "source": [
        "#перед этим создайте папку с данными train и в папке train создайте еще шесть папок для шести дефектов\n",
        "import shutil\n",
        "import numpy as np\n",
        "\n",
        "try:\n",
        "    source1 = \"NEU/train\"\n",
        "    os.mkdir(\"NEU/test\")\n",
        "    dest11 = \"NEU/test\"\n",
        "    files = os.listdir(source1)\n",
        "\n",
        "    for f in files:\n",
        "        os.mkdir(dest11 + '/'+ f)\n",
        "        spilt_num = int(len(os.listdir(source1 + '/'+ f))*0.08)\n",
        "        for i in os.listdir(source1 + '/'+ f)[spilt_num:]:\n",
        "            shutil.move(source1 + '/'+ f +'/'+ i, dest11 + '/'+ f +'/'+ i)\n",
        "except:\n",
        "    print(\"\\nВсе уже есть в каталоге. Вам не нужно запускать эту ячейку\")"
      ],
      "execution_count": 3,
      "outputs": [
        {
          "output_type": "stream",
          "text": [
            "\n",
            "Все уже есть в каталоге. Вам не нужно запускать эту ячейку\n"
          ],
          "name": "stdout"
        }
      ]
    },
    {
      "cell_type": "markdown",
      "metadata": {
        "id": "qleJN6D4IUp4"
      },
      "source": [
        "## Разделение тестовой и тренировочных выборок"
      ]
    },
    {
      "cell_type": "code",
      "metadata": {
        "id": "Q1jQVnctIUp6"
      },
      "source": [
        "import shutil\n",
        "import numpy as np\n",
        "\n",
        "try:\n",
        "    source1 = \"NEU/test\"\n",
        "    os.mkdir(\"NEU/valid\")\n",
        "    dest11 = \"NEU/valid\"\n",
        "    files = os.listdir(source1)\n",
        "\n",
        "    for f in files:\n",
        "        os.mkdir(dest11 + '/'+ f)\n",
        "        spilt_num=int(len(os.listdir(source1 + '/'+ f))*0.5)\n",
        "        for i in os.listdir(source1 + '/'+ f)[spilt_num:]:\n",
        "            shutil.move(source1 + '/'+ f +'/'+ i, dest11 + '/'+ f +'/'+ i)\n",
        "except:\n",
        "    print(\"\\nВсе уже есть в каталоге. Вам не нужно запускать эту ячейку\")"
      ],
      "execution_count": 4,
      "outputs": []
    },
    {
      "cell_type": "markdown",
      "metadata": {
        "id": "nXG2oHebyLsV"
      },
      "source": [
        "##Определение архитектуры нейросети"
      ]
    },
    {
      "cell_type": "markdown",
      "metadata": {
        "id": "89eJe2ybX_Ip"
      },
      "source": [
        "Метод batch сообщает методу тренировки model.fit использовать блоки по 10 изображений и метки при обновлении внутренних переменных модели."
      ]
    },
    {
      "cell_type": "code",
      "metadata": {
        "colab": {
          "base_uri": "https://localhost:8080/"
        },
        "id": "h-nTI6qPIUp8",
        "outputId": "1ba98f63-bb2a-44e4-97c2-bdbd6abdb989"
      },
      "source": [
        "# Все изображения будут смасштабированы к 1./255\n",
        "train_datagen = ImageDataGenerator(rescale = 1. / 255, shear_range = 0.2, zoom_range = 0.2, horizontal_flip = True)\n",
        "test_datagen = ImageDataGenerator(rescale=1./255)\n",
        "\n",
        "# Обучающие изображения партиями по 10 с использованием генератора train_datagen\n",
        "train_generator = train_datagen.flow_from_directory('NEU/train', target_size = (200, 200), batch_size = 10, class_mode = 'categorical')\n",
        "\n",
        "# Тестовая выборка по 10 пакетов с использованием генератора train_datagen\n",
        "validation_generator = test_datagen.flow_from_directory('NEU/valid', target_size = (200, 200), batch_size = 10, class_mode = 'categorical')"
      ],
      "execution_count": 5,
      "outputs": [
        {
          "output_type": "stream",
          "text": [
            "Found 1925 images belonging to 7 classes.\n",
            "Found 91 images belonging to 7 classes.\n"
          ],
          "name": "stdout"
        }
      ]
    },
    {
      "cell_type": "code",
      "metadata": {
        "id": "ghjswARDIUp-"
      },
      "source": [
        "class myCallback(tf.keras.callbacks.Callback):\n",
        "    def on_epoch_end(self, epoch, logs={}):\n",
        "        if(logs.get('val_accuracy') > 0.92 ):\n",
        "            print(\"\\nТочность расчёта более 93%, расчёт был остановлен!\")\n",
        "            self.model.stop_training = True "
      ],
      "execution_count": 6,
      "outputs": []
    },
    {
      "cell_type": "markdown",
      "metadata": {
        "id": "37J7AJGHVFxj"
      },
      "source": [
        "Процесс преобразования 2D-изображения в вектор называется сглаживанием (flattening) и реализуется посредством сглаживающего слоя — flatten-слоя.\n",
        "\n",
        "ReLU — функция активации нейрона. Функция ReLU возвращает 0, если в качестве входного значения было отрицательное значение или ноль, во всех остальных случаях функция вернёт исходное входное значение.\n",
        "\n",
        "Softmax — функция, которая вычисляет вероятности для каждого возможного выходного класса;\n"
      ]
    },
    {
      "cell_type": "markdown",
      "metadata": {
        "id": "I9OJ-XwuyBLG"
      },
      "source": [
        ""
      ]
    },
    {
      "cell_type": "code",
      "metadata": {
        "id": "rMlcQcUdIUqA"
      },
      "source": [
        "model = tf.keras.models.Sequential([\n",
        "    tf.keras.layers.Conv2D(8, (2,2), activation='relu', input_shape=(200, 200, 3)),\n",
        "    tf.keras.layers.MaxPooling2D(2, 2),\n",
        "    tf.keras.layers.Conv2D(32, (2,2), activation='relu'),\n",
        "    tf.keras.layers.MaxPooling2D(2,2),\n",
        "    tf.keras.layers.Conv2D(64, (2,2), activation='relu'),\n",
        "    tf.keras.layers.MaxPooling2D(2,2),\n",
        "    tf.keras.layers.Flatten(),\n",
        "    tf.keras.layers.Dense(256, activation='relu'),\n",
        "    tf.keras.layers.Dropout(0.2),\n",
        "    tf.keras.layers.Dense(7, activation='softmax')\n",
        "])"
      ],
      "execution_count": 7,
      "outputs": []
    },
    {
      "cell_type": "code",
      "metadata": {
        "colab": {
          "base_uri": "https://localhost:8080/"
        },
        "id": "nPNtqxGTIUqD",
        "outputId": "914d8770-afdf-4c2b-a32d-0812e5eb6402"
      },
      "source": [
        "model.compile(loss = 'categorical_crossentropy', optimizer = 'rmsprop', metrics = ['accuracy'])\n",
        "print('Модель свёрточной сети создана')\n",
        "model.summary()"
      ],
      "execution_count": 8,
      "outputs": [
        {
          "output_type": "stream",
          "text": [
            "Модель свёрточной сети создана\n",
            "Model: \"sequential\"\n",
            "_________________________________________________________________\n",
            "Layer (type)                 Output Shape              Param #   \n",
            "=================================================================\n",
            "conv2d (Conv2D)              (None, 199, 199, 8)       104       \n",
            "_________________________________________________________________\n",
            "max_pooling2d (MaxPooling2D) (None, 99, 99, 8)         0         \n",
            "_________________________________________________________________\n",
            "conv2d_1 (Conv2D)            (None, 98, 98, 32)        1056      \n",
            "_________________________________________________________________\n",
            "max_pooling2d_1 (MaxPooling2 (None, 49, 49, 32)        0         \n",
            "_________________________________________________________________\n",
            "conv2d_2 (Conv2D)            (None, 48, 48, 64)        8256      \n",
            "_________________________________________________________________\n",
            "max_pooling2d_2 (MaxPooling2 (None, 24, 24, 64)        0         \n",
            "_________________________________________________________________\n",
            "flatten (Flatten)            (None, 36864)             0         \n",
            "_________________________________________________________________\n",
            "dense (Dense)                (None, 256)               9437440   \n",
            "_________________________________________________________________\n",
            "dropout (Dropout)            (None, 256)               0         \n",
            "_________________________________________________________________\n",
            "dense_1 (Dense)              (None, 7)                 1799      \n",
            "=================================================================\n",
            "Total params: 9,448,655\n",
            "Trainable params: 9,448,655\n",
            "Non-trainable params: 0\n",
            "_________________________________________________________________\n"
          ],
          "name": "stdout"
        }
      ]
    },
    {
      "cell_type": "markdown",
      "metadata": {
        "id": "copfea9Z0aIU"
      },
      "source": [
        "# Обучение нейросети"
      ]
    },
    {
      "cell_type": "code",
      "metadata": {
        "colab": {
          "base_uri": "https://localhost:8080/"
        },
        "id": "Ir5TKib1IUqF",
        "outputId": "3a13d000-88d4-4c4d-c372-a564d7d3ffcc"
      },
      "source": [
        "callbacks = myCallback()\n",
        "checkpoint_path = \"/content/drive/My Drive/Files for colab/Checkpoint_for_machine_learning_\" + str(number_of_interations) + \".ckpt\"\n",
        "checkpoint_dir = os.path.dirname(checkpoint_path)\n",
        "\n",
        "# Создаем коллбек сохраняющий веса модели\n",
        "cp_callback = tf.keras.callbacks.ModelCheckpoint(filepath = checkpoint_path, save_weights_only = True, verbose = 1)\n",
        "history = model.fit(train_generator, batch_size = 16, epochs = 15, validation_data = validation_generator, callbacks=[cp_callback], verbose = 1, shuffle = True)\n",
        "# Сохраним всю модель в  HDF5 файл\n",
        "model.save(\"/content/drive/My Drive/Files for colab/Machine_learning_model_\" + str(number_of_interations) + \".h5\")"
      ],
      "execution_count": null,
      "outputs": [
        {
          "output_type": "stream",
          "text": [
            "Epoch 1/15\n",
            "193/193 [==============================] - 72s 375ms/step - loss: 0.1822 - accuracy: 0.9532 - val_loss: 1.7580 - val_accuracy: 0.7143\n",
            "\n",
            "Epoch 00001: saving model to /content/drive/My Drive/Files for colab/Checkpoint_for_machine_learning_10.ckpt\n",
            "Epoch 2/15\n",
            "193/193 [==============================] - 74s 385ms/step - loss: 0.2495 - accuracy: 0.9429 - val_loss: 0.7840 - val_accuracy: 0.9121\n",
            "\n",
            "Epoch 00002: saving model to /content/drive/My Drive/Files for colab/Checkpoint_for_machine_learning_10.ckpt\n",
            "Epoch 3/15\n",
            "193/193 [==============================] - 77s 399ms/step - loss: 0.2464 - accuracy: 0.9449 - val_loss: 0.3787 - val_accuracy: 0.9451\n",
            "\n",
            "Epoch 00003: saving model to /content/drive/My Drive/Files for colab/Checkpoint_for_machine_learning_10.ckpt\n",
            "Epoch 4/15\n",
            "193/193 [==============================] - 76s 394ms/step - loss: 0.2110 - accuracy: 0.9512 - val_loss: 1.2826 - val_accuracy: 0.8022\n",
            "\n",
            "Epoch 00004: saving model to /content/drive/My Drive/Files for colab/Checkpoint_for_machine_learning_10.ckpt\n",
            "Epoch 5/15\n",
            "193/193 [==============================] - 74s 382ms/step - loss: 0.2883 - accuracy: 0.9444 - val_loss: 0.7179 - val_accuracy: 0.8901\n",
            "\n",
            "Epoch 00005: saving model to /content/drive/My Drive/Files for colab/Checkpoint_for_machine_learning_10.ckpt\n",
            "Epoch 6/15\n",
            "193/193 [==============================] - 75s 387ms/step - loss: 0.3082 - accuracy: 0.9491 - val_loss: 0.2637 - val_accuracy: 0.9451\n",
            "\n",
            "Epoch 00006: saving model to /content/drive/My Drive/Files for colab/Checkpoint_for_machine_learning_10.ckpt\n",
            "Epoch 7/15\n",
            "193/193 [==============================] - 73s 379ms/step - loss: 0.2535 - accuracy: 0.9548 - val_loss: 0.3526 - val_accuracy: 0.9780\n",
            "\n",
            "Epoch 00007: saving model to /content/drive/My Drive/Files for colab/Checkpoint_for_machine_learning_10.ckpt\n",
            "Epoch 8/15\n",
            "193/193 [==============================] - 72s 373ms/step - loss: 0.1742 - accuracy: 0.9579 - val_loss: 0.4418 - val_accuracy: 0.9451\n",
            "\n",
            "Epoch 00008: saving model to /content/drive/My Drive/Files for colab/Checkpoint_for_machine_learning_10.ckpt\n",
            "Epoch 9/15\n",
            "193/193 [==============================] - 72s 375ms/step - loss: 0.2719 - accuracy: 0.9449 - val_loss: 0.3039 - val_accuracy: 0.9121\n",
            "\n",
            "Epoch 00009: saving model to /content/drive/My Drive/Files for colab/Checkpoint_for_machine_learning_10.ckpt\n",
            "Epoch 10/15\n",
            "193/193 [==============================] - 73s 377ms/step - loss: 0.2644 - accuracy: 0.9506 - val_loss: 0.3521 - val_accuracy: 0.9451\n",
            "\n",
            "Epoch 00010: saving model to /content/drive/My Drive/Files for colab/Checkpoint_for_machine_learning_10.ckpt\n",
            "Epoch 11/15\n",
            "193/193 [==============================] - 76s 392ms/step - loss: 0.2241 - accuracy: 0.9527 - val_loss: 0.4459 - val_accuracy: 0.9341\n",
            "\n",
            "Epoch 00011: saving model to /content/drive/My Drive/Files for colab/Checkpoint_for_machine_learning_10.ckpt\n",
            "Epoch 12/15\n",
            "193/193 [==============================] - 73s 376ms/step - loss: 0.2384 - accuracy: 0.9460 - val_loss: 0.4187 - val_accuracy: 0.9670\n",
            "\n",
            "Epoch 00012: saving model to /content/drive/My Drive/Files for colab/Checkpoint_for_machine_learning_10.ckpt\n",
            "Epoch 13/15\n",
            "193/193 [==============================] - 74s 381ms/step - loss: 0.1765 - accuracy: 0.9605 - val_loss: 7.3816 - val_accuracy: 0.6593\n",
            "\n",
            "Epoch 00013: saving model to /content/drive/My Drive/Files for colab/Checkpoint_for_machine_learning_10.ckpt\n",
            "Epoch 14/15\n",
            "193/193 [==============================] - 77s 400ms/step - loss: 0.2626 - accuracy: 0.9506 - val_loss: 0.4209 - val_accuracy: 0.9121\n",
            "\n",
            "Epoch 00014: saving model to /content/drive/My Drive/Files for colab/Checkpoint_for_machine_learning_10.ckpt\n",
            "Epoch 15/15\n",
            "193/193 [==============================] - 73s 379ms/step - loss: 0.1998 - accuracy: 0.9548 - val_loss: 0.8002 - val_accuracy: 0.9231\n",
            "\n",
            "Epoch 00015: saving model to /content/drive/My Drive/Files for colab/Checkpoint_for_machine_learning_10.ckpt\n"
          ],
          "name": "stdout"
        }
      ]
    },
    {
      "cell_type": "markdown",
      "metadata": {
        "id": "cN7SpIR3yOLb"
      },
      "source": [
        "Графики результатов обучения"
      ]
    },
    {
      "cell_type": "code",
      "metadata": {
        "id": "BHic0vlmIUqH"
      },
      "source": [
        "import matplotlib.pyplot as plt \n",
        "plt.figure(1)  \n",
        "\n",
        "# обобщение истории для точности   \n",
        "plt.subplot(211)  \n",
        "plt.plot(history.history['accuracy'])  \n",
        "plt.plot(history.history['val_accuracy'])  \n",
        "plt.title('model accuracy')  \n",
        "plt.ylabel('accuracy')  \n",
        "plt.xlabel('epoch')  \n",
        "plt.legend(['train', 'test'], loc='upper left')  \n",
        "   \n",
        " # обобщение истории для потерь    \n",
        "plt.subplot(212)  \n",
        "plt.plot(history.history['loss'])  \n",
        "plt.plot(history.history['val_loss'])  \n",
        "plt.title('model loss')  \n",
        "plt.ylabel('loss')  \n",
        "plt.xlabel('epoch')  \n",
        "plt.legend(['train', 'test'], loc='upper left')  \n",
        "plt.show()"
      ],
      "execution_count": null,
      "outputs": []
    },
    {
      "cell_type": "markdown",
      "metadata": {
        "id": "-IpKNOVA60uz"
      },
      "source": [
        "#Загрузка и работа с обученной моделью"
      ]
    },
    {
      "cell_type": "code",
      "metadata": {
        "id": "zY0Z2Gdwi0bd",
        "colab": {
          "base_uri": "https://localhost:8080/"
        },
        "outputId": "e5c2716d-95f7-40e1-eb85-ff01a13af178"
      },
      "source": [
        "# Восстановим в точности ту же модель, включая веса и оптимизатор\n",
        "Loading_model = keras.models.load_model(\"/content/drive/My Drive/Files for colab/Machine_learning_model_\" + str(number_of_interations) + \".h5\")\n",
        "Loading_model.summary()"
      ],
      "execution_count": 10,
      "outputs": [
        {
          "output_type": "stream",
          "text": [
            "Model: \"sequential_4\"\n",
            "_________________________________________________________________\n",
            "Layer (type)                 Output Shape              Param #   \n",
            "=================================================================\n",
            "conv2d_12 (Conv2D)           (None, 199, 199, 8)       104       \n",
            "_________________________________________________________________\n",
            "max_pooling2d_12 (MaxPooling (None, 99, 99, 8)         0         \n",
            "_________________________________________________________________\n",
            "conv2d_13 (Conv2D)           (None, 98, 98, 32)        1056      \n",
            "_________________________________________________________________\n",
            "max_pooling2d_13 (MaxPooling (None, 49, 49, 32)        0         \n",
            "_________________________________________________________________\n",
            "conv2d_14 (Conv2D)           (None, 48, 48, 64)        8256      \n",
            "_________________________________________________________________\n",
            "max_pooling2d_14 (MaxPooling (None, 24, 24, 64)        0         \n",
            "_________________________________________________________________\n",
            "flatten_4 (Flatten)          (None, 36864)             0         \n",
            "_________________________________________________________________\n",
            "dense_8 (Dense)              (None, 256)               9437440   \n",
            "_________________________________________________________________\n",
            "dropout_4 (Dropout)          (None, 256)               0         \n",
            "_________________________________________________________________\n",
            "dense_9 (Dense)              (None, 7)                 1799      \n",
            "=================================================================\n",
            "Total params: 9,448,655\n",
            "Trainable params: 9,448,655\n",
            "Non-trainable params: 0\n",
            "_________________________________________________________________\n"
          ],
          "name": "stdout"
        }
      ]
    },
    {
      "cell_type": "code",
      "metadata": {
        "id": "5hzZbswjIUqJ"
      },
      "source": [
        "# Загрузим имена файлов и их соответствующие целевые метки в массив numpy\n",
        "from sklearn.datasets import load_files\n",
        "import numpy as np\n",
        "\n",
        "test_dir = 'NEU/test'\n",
        "\n",
        "def load_dataset(path):\n",
        "    data = load_files(path)\n",
        "    files = np.array(data['filenames'])\n",
        "    targets = np.array(data['target'])\n",
        "    target_labels = np.array(data['target_names'])\n",
        "    return files,targets,target_labels\n",
        "    \n",
        "x_test, y_test,target_labels = load_dataset(test_dir)"
      ],
      "execution_count": 11,
      "outputs": []
    },
    {
      "cell_type": "code",
      "metadata": {
        "colab": {
          "base_uri": "https://localhost:8080/"
        },
        "id": "wB4mNzU-IUqL",
        "outputId": "7050f33d-505f-4d6a-bf5b-9a843ee8d1a2"
      },
      "source": [
        "no_of_classes = len(np.unique(y_test))\n",
        "print('Количество классов: ', no_of_classes)"
      ],
      "execution_count": 12,
      "outputs": [
        {
          "output_type": "stream",
          "text": [
            "Количество классов:  7\n"
          ],
          "name": "stdout"
        }
      ]
    },
    {
      "cell_type": "code",
      "metadata": {
        "id": "71XulwgVIUqO"
      },
      "source": [
        "from keras.utils import np_utils\n",
        "y_test = np_utils.to_categorical(y_test,no_of_classes)"
      ],
      "execution_count": 13,
      "outputs": []
    },
    {
      "cell_type": "code",
      "metadata": {
        "colab": {
          "base_uri": "https://localhost:8080/"
        },
        "id": "FxjjwNX0IUqQ",
        "outputId": "2fc83483-e99d-423f-f351-aff6ce0ef05b"
      },
      "source": [
        "# У нас есть только имена файлов в наборе x. Загрузим изображения и преобразуем их в массив.\n",
        "from keras.preprocessing.image import array_to_img, img_to_array, load_img\n",
        "\n",
        "def convert_image_to_array(files):\n",
        "    images_as_array=[]\n",
        "    for file in files:\n",
        "        # Преобразование в массив Numpy\n",
        "        images_as_array.append(img_to_array(load_img(file)))\n",
        "    return images_as_array\n",
        "\n",
        "x_test = np.array(convert_image_to_array(x_test))\n",
        "print('Размеры тестовой выборки (кол-во изображений, размеры, кол-во каналов): ', x_test.shape)"
      ],
      "execution_count": 14,
      "outputs": [
        {
          "output_type": "stream",
          "text": [
            "Размеры тестовой выборки (кол-во изображений, размеры, кол-во каналов):  (84, 200, 200, 3)\n"
          ],
          "name": "stdout"
        }
      ]
    },
    {
      "cell_type": "code",
      "metadata": {
        "id": "77RvponhIUqS"
      },
      "source": [
        "x_test = x_test.astype('float32')/255"
      ],
      "execution_count": 15,
      "outputs": []
    },
    {
      "cell_type": "markdown",
      "metadata": {
        "id": "ZtBsr5Kv1DG0"
      },
      "source": [
        "##Визуализация предсказаний"
      ]
    },
    {
      "cell_type": "code",
      "metadata": {
        "id": "ZZnCr8V_IUqU"
      },
      "source": [
        "import matplotlib.pyplot as plt\n",
        "\n",
        "y_pred = Loading_model.predict(x_test)\n",
        "start_time = time.time()\n",
        "# построение случайной выборки тестовых изображений, их предсказанные метки и  истинного значения\n",
        "fig = plt.figure(figsize = (16, 9))\n",
        "for i, idx in enumerate(np.random.choice(x_test.shape[0], size = 16, replace = False)):\n",
        "    ax = fig.add_subplot(4, 4, i + 1, xticks=[], yticks=[])\n",
        "    ax.imshow(np.squeeze(x_test[idx]))\n",
        "    pred_idx = np.argmax(y_pred[idx])\n",
        "    true_idx = np.argmax(y_test[idx])\n",
        "    ax.set_title(\"{} ({})\".format(target_labels[pred_idx], target_labels[true_idx]), color = (\"green\" if pred_idx == true_idx else \"red\"))\n",
        "\n",
        "print(\"Время выполнения операции = \", (time.time() - start_time), ' c')"
      ],
      "execution_count": null,
      "outputs": []
    },
    {
      "cell_type": "markdown",
      "metadata": {
        "id": "dWhai_2i3Xzs"
      },
      "source": [
        "Тест программы"
      ]
    },
    {
      "cell_type": "code",
      "metadata": {
        "id": "Rswj0cGR3WMr"
      },
      "source": [
        "import matplotlib.pyplot as plt\n",
        "\n",
        "print('Введите номер изображения, для теста из тестовой выборки (от 0 до 83)')\n",
        "idx = int(input())\n",
        "\n",
        "start_time = time.time()\n",
        "fig = plt.figure(figsize=(16, 9))\n",
        "ax = fig.add_subplot(4, 4, i + 1, xticks=[], yticks=[])\n",
        "ax.imshow(np.squeeze(x_test[idx]))\n",
        "pred_idx = np.argmax(y_pred[idx])\n",
        "true_idx = np.argmax(y_test[idx])\n",
        "ax.set_title(\"{} ({})\".format(target_labels[pred_idx], target_labels[true_idx]), color=(\"green\" if pred_idx == true_idx else \"red\"))\n",
        "print(\"Время выполнения операции = \", (time.time() - start_time), ' c')"
      ],
      "execution_count": null,
      "outputs": []
    },
    {
      "cell_type": "markdown",
      "metadata": {
        "id": "LGYkf38gu-pF"
      },
      "source": [
        ""
      ]
    },
    {
      "cell_type": "markdown",
      "metadata": {
        "id": "Bo87ALQqv-J2"
      },
      "source": [
        "##Прогон всей тестовой выборки"
      ]
    },
    {
      "cell_type": "code",
      "metadata": {
        "id": "qRQprJV9u9zI"
      },
      "source": [
        "import matplotlib.pyplot as plt\n",
        "\n",
        "print('Прогон всех тестовых изображений по порядку')\n",
        "\n",
        "for k in range(84):\n",
        "\n",
        "  fig = plt.figure(figsize=(16, 9))\n",
        "  ax = fig.add_subplot(4, 4, 2, xticks=[], yticks=[])\n",
        "  ax.imshow(np.squeeze(x_test[k]))\n",
        "  pred_idx = np.argmax(y_pred[k])\n",
        "  true_idx = np.argmax(y_test[k])\n",
        "  ax.set_title(\"{} ({})\".format(target_labels[pred_idx], target_labels[true_idx]), color=(\"green\" if pred_idx == true_idx else \"red\"))"
      ],
      "execution_count": null,
      "outputs": []
    },
    {
      "cell_type": "markdown",
      "metadata": {
        "id": "FLDzRewe5lj3"
      },
      "source": [
        "##Уберём визуализирующую состовляющую, чтобы вычислить время, требующееся для расчёта одного изображения"
      ]
    },
    {
      "cell_type": "code",
      "metadata": {
        "colab": {
          "base_uri": "https://localhost:8080/"
        },
        "id": "SOU2txtp47_9",
        "outputId": "dd225646-6a15-4b04-9309-83caad828a13"
      },
      "source": [
        "print('Введите номер изображения, для теста из тестовой выборки (от 0 до 83)')\n",
        "idx = int(input())\n",
        "\n",
        "start_time = time.time()\n",
        "pred_idx = np.argmax(y_pred[idx])\n",
        "print('Номер дефекта: ', pred_idx)\n",
        "print(\"Время выполнения операции = \", (time.time() - start_time), ' c')\n",
        "time_for_operation = (time.time() - start_time)\n",
        "print(\"Расшифровка: crazing = 1, inclusion = 2, patches = 3, plitted surface = 4, rolled in scale = 5, scratches = 6, clear surface = 7\")"
      ],
      "execution_count": null,
      "outputs": [
        {
          "output_type": "stream",
          "text": [
            "Введите номер изображения, для теста из тестовой выборки (от 0 до 83)\n",
            "5\n",
            "Номер дефекта:  4\n",
            "Время выполнения операции =  0.0002956390380859375  c\n",
            "Расшифровка: crazing = 1, inclusion = 2, patches = 3, plitted surface = 4, rolled in scale = 5, scratches = 6, clear surface = 7\n"
          ],
          "name": "stdout"
        }
      ]
    },
    {
      "cell_type": "markdown",
      "metadata": {
        "id": "0t70Z4ZlNpEf"
      },
      "source": [
        "#Работа с камерой"
      ]
    },
    {
      "cell_type": "markdown",
      "metadata": {
        "id": "KD-ww2BQnl5-"
      },
      "source": [
        "##Расчёты параметров для камеры, времени и т.д."
      ]
    },
    {
      "cell_type": "code",
      "metadata": {
        "colab": {
          "base_uri": "https://localhost:8080/"
        },
        "id": "Goy-1p6znu6d",
        "outputId": "d7cdcc8d-d55e-45b9-e9ad-846d1fcd5d88"
      },
      "source": [
        "import math\n",
        "\n",
        "width = 1.9 #Ширина листопроката\n",
        "cam_length = 4096 #Разрешение камеры по длине\n",
        "cam_width = 3000 # Разрешение камеры по высоте\n",
        "alpha = 72 #Угол обзора камеры\n",
        "\n",
        "b = width * cam_length / cam_width  #Длина участка полосы проката в м\n",
        "alpha_rad = alpha / 59.29577 # Из градусов в радианы\n",
        "\n",
        "edge_of_the_pyramid = b * math.sqrt(2 - 2* math.cos(alpha_rad)) / (2 - 2* math.cos(alpha_rad)) #Вычисление ребра пирамиды (стороны треугольника MON)\n",
        "cam_height = math.sqrt( edge_of_the_pyramid*edge_of_the_pyramid - (b / 4)) #Высота камеры над листом ОН\n",
        "length_for_pixel = b/cam_length #Соотношение одного пикселя к длине полосы\n",
        "width_for_pixel = b/cam_width #Соотношение одного пикселя к ширине полосы\n",
        "\n",
        "print('При длине полосы, попавшей в объектив = ' + str(round(b, 3)) + ' м')\n",
        "print('Высота камеры над листом = ', str(round(cam_height, 3)) + ' м')\n",
        "print('Один пиксель соответствует длине листа в ' + str (round (length_for_pixel, 6)) + ' м')\n",
        "print('Один пиксель соответствует ширине листа в ' + str (round (width_for_pixel, 6)) + ' м')\n",
        "\n",
        "#Посчитаем количество фрагментов для 1 кадра, для анализа\n",
        "number_of_fragments_in_length = int(cam_length / 200) \n",
        "print('Фрагментов по длине = ', int(number_of_fragments_in_length))\n",
        "number_of_fragments_in_width = int(cam_width / 200)\n",
        "print('Фрагментов по ширине = ', number_of_fragments_in_width)\n",
        "print('Всего фрагментов = ', number_of_fragments_in_length * number_of_fragments_in_width)\n",
        "time_for_frame_operation = number_of_fragments_in_length * number_of_fragments_in_width * time_for_operation\n",
        "print('Время на обработку одного кадра = ', time_for_frame_operation, 'c')\n",
        "\n",
        "#Расчёт промежутка времени через который будет делаться 1 кадр\n",
        "velocity = 1.25 #Скорость листопроката м/с\n",
        "time_frame = b / velocity #Промежуток времени через который будет делаться снимок\n",
        "print('Промежуток времени через который будет делаться снимок = ' + str(round (time_frame, 4)) + ' c')\n",
        "print('Запас или недостаток (знак минус) по времени = ', (time_frame - time_for_frame_operation ), ' c')"
      ],
      "execution_count": null,
      "outputs": [
        {
          "output_type": "stream",
          "text": [
            "При длине полосы, попавшей в объектив = 2.594 м\n",
            "Высота камеры над листом =  2.126 м\n",
            "Один пиксель соответствует длине листа в 0.000633 м\n",
            "Один пиксель соответствует ширине листа в 0.000865 м\n",
            "Фрагментов по длине =  20\n",
            "Фрагментов по ширине =  15\n",
            "Всего фрагментов =  300\n",
            "Время на обработку одного кадра =  0.11136531829833984 c\n",
            "Промежуток времени через который будет делаться снимок = 2.0753 c\n",
            "Запас или недостаток (знак минус) по времени =  1.9639413483683268  c\n"
          ],
          "name": "stdout"
        }
      ]
    },
    {
      "cell_type": "markdown",
      "metadata": {
        "id": "6nEQB83Dy3zK"
      },
      "source": [
        "##Подключение камеры и создание снимков с определённой периодичностью (в google colab не запустится)"
      ]
    },
    {
      "cell_type": "code",
      "metadata": {
        "id": "HhZ_Gssdy9Fn"
      },
      "source": [
        "import cv2\n",
        "import time\n",
        "timing = time.time()\n",
        "\n",
        "cap = cv2.VideoCapture(0) #Подключаемся (захватываем) к камере. 0 — это индекс камеры, если их несколько то будет 0 или 1 и т.д.\n",
        "time_frame = round(time_frame, 3) #Округлим время работы\n",
        "\n",
        "iteration = 1\n",
        "while True:\n",
        "    if time.time() - timing > time_frame:\n",
        "      iteration += 1\n",
        "      ret, img = cap.read() # Читаем с устройства кадр, метод возвращает флаг ret (True , False) и img — саму картинку (массив numpy)\n",
        "      name = 'Test' +  str(iteration) + '.jpg' #Генерация имени файла\n",
        "      cv2.imwrite(\"/content/drive/My Drive/Files for colab/TestPicture/\" + str(name), img)    \n",
        "cap.release()"
      ],
      "execution_count": null,
      "outputs": []
    },
    {
      "cell_type": "markdown",
      "metadata": {
        "id": "znqfYKCsfcpA"
      },
      "source": [
        "#Оценка качества поверхности"
      ]
    },
    {
      "cell_type": "markdown",
      "metadata": {
        "id": "Ur6Oss9ogOTN"
      },
      "source": [
        "Создадим каталог для фрагментов"
      ]
    },
    {
      "cell_type": "code",
      "metadata": {
        "id": "dbRxcDOSgC1B",
        "colab": {
          "base_uri": "https://localhost:8080/"
        },
        "outputId": "5b355bea-95c8-4575-e867-27ae0fa5a7be"
      },
      "source": [
        "try:\n",
        "  os.mkdir(\"Fragments/ForTest\") # Создание пустого каталога (папки), в которую будут сохраняться фрагменты\n",
        "except:\n",
        "    print(\"\\nВсе уже есть в каталоге. Вам не нужно запускать эту ячейку\")"
      ],
      "execution_count": 91,
      "outputs": [
        {
          "output_type": "stream",
          "text": [
            "\n",
            "Все уже есть в каталоге. Вам не нужно запускать эту ячейку\n"
          ],
          "name": "stdout"
        }
      ]
    },
    {
      "cell_type": "markdown",
      "metadata": {
        "id": "lh33W1AXuTTF"
      },
      "source": [
        "##Разбиение изображения на фрагменты"
      ]
    },
    {
      "cell_type": "code",
      "metadata": {
        "id": "mHrRXL4NPRuJ",
        "colab": {
          "base_uri": "https://localhost:8080/"
        },
        "outputId": "ffa7b3ff-2f4d-4259-c687-eba030f06492"
      },
      "source": [
        "import cv2\n",
        "import matplotlib\n",
        "import os\n",
        "\n",
        "image = cv2.imread(\"/content/drive/My Drive/Files for colab/TestPicture/Test12.jpg\") #Тестовое изображение, загружаемое с Гугл.Диска\n",
        "\n",
        "#Пересчёт количества фрагментов, на тот случай, если загружаемое изображение имеет иные размеры\n",
        "length = image.shape[0] #Высота изображения\n",
        "width = image.shape[1] #Ширина изображения\n",
        "#Посчитаем количество фрагментов для 1 кадра для анализа\n",
        "number_of_fragments_in_length_img =  int(length/ 200) \n",
        "number_of_fragments_in_width_img = int(width / 200) \n",
        "number_of_fragments_img = number_of_fragments_in_length_img * number_of_fragments_in_width_img\n",
        "\n",
        "number = 0 #Вспомогательная переменная\n",
        "x_massive = [] #Ось х для построения графиков \n",
        "\n",
        "#Дробление изображения\n",
        "for i in range (number_of_fragments_in_length_img):\n",
        "  for k in range(number_of_fragments_in_width_img):\n",
        "    number+=1\n",
        "    x_massive.append(number)\n",
        "    cropped = image[(0 + 200 * i) : (200 + 200 * i), (0 + 200 * k) : (200 + 200 * k)] # Вырезаем изображения кусочками по 200х200 пикселей по всей площади\n",
        "    name = \"Cropped_\" + str(number) + '.jpg'\n",
        "    cv2.imwrite(\"Fragments/ForTest/\" + str(name), cropped)\n",
        "\n",
        "print(\"Всего фрагментов: \", number_of_fragments_img)"
      ],
      "execution_count": 118,
      "outputs": [
        {
          "output_type": "stream",
          "text": [
            "Всего фрагментов:  4\n"
          ],
          "name": "stdout"
        }
      ]
    },
    {
      "cell_type": "markdown",
      "metadata": {
        "id": "TUyNejDkkdpS"
      },
      "source": [
        "##Предподготовка фрагментов"
      ]
    },
    {
      "cell_type": "code",
      "metadata": {
        "id": "B6FIvonQY4Ri"
      },
      "source": [
        "# Загрузим имена файлов и их соответствующие целевые метки в массив numpy\n",
        "from sklearn.datasets import load_files\n",
        "import numpy as np\n",
        "\n",
        "test_dir_2 = 'Fragments/ForTest'\n",
        "\n",
        "def load_dataset_2 (path):\n",
        "    data_2 = load_files(path)\n",
        "    files_2 = np.array(data_2['filenames'])\n",
        "    targets_2 = np.array(data_2['target'])\n",
        "    target_labels_2 = np.array(data_2['target_names'])\n",
        "    return files_2,targets_2,target_labels_2\n",
        "    \n",
        "x_test_2, y_test_2, target_labels_2 = load_dataset_2(test_dir_2)\n",
        "no_of_classes_2 = len(np.unique(y_test_2))"
      ],
      "execution_count": 127,
      "outputs": []
    },
    {
      "cell_type": "code",
      "metadata": {
        "id": "4A38vCclZZuB"
      },
      "source": [
        "# У нас есть только имена файлов в наборе x. Загрузим изображения и преобразуем их в массив.\n",
        "from keras.preprocessing.image import array_to_img, img_to_array, load_img\n",
        "\n",
        "def convert_image_to_array(files):\n",
        "    images_as_array_2=[]\n",
        "    for file in files:\n",
        "        # Преобразование в массив Numpy\n",
        "        images_as_array_2.append(img_to_array(load_img(file)))\n",
        "    return images_as_array_2\n",
        "\n",
        "x_test_2 = np.array(convert_image_to_array(x_test_2))\n",
        "x_test_2 = x_test.astype('float32')/255"
      ],
      "execution_count": 128,
      "outputs": []
    },
    {
      "cell_type": "markdown",
      "metadata": {
        "id": "k-EWRN0-udxo"
      },
      "source": [
        "##Обработка фрагментов нейросетью"
      ]
    },
    {
      "cell_type": "code",
      "metadata": {
        "colab": {
          "base_uri": "https://localhost:8080/",
          "height": 141
        },
        "id": "O5fqhMy8btwG",
        "outputId": "9bda5e0a-1e99-488d-8605-e5bee412c895"
      },
      "source": [
        "import matplotlib.pyplot as plt\n",
        "\n",
        "y_pred_2 = Loading_model.predict(x_test_2)\n",
        "start_time = time.time()\n",
        "# построение случайной выборки тестовых изображений, их предсказанные метки и  истинного значения\n",
        "fig = plt.figure(figsize = (16, 9))\n",
        "\n",
        "for idx_2 in range(number_of_fragments_img):\n",
        "    pred_idx_2 = np.argmax(y_pred_2[idx_2])\n",
        "    print('Номер дефекта: '+ str(pred_idx_2) + ' для ' + str(idx_2 + 1) + ' изображения')\n",
        "\n",
        "print(\"Время выполнения операции = \", (time.time() - start_time), ' c')\n",
        "print(\"Расшифровка: crazing = 1, inclusion = 2, patches = 3, plitted surface = 4, rolled in scale = 5, scratches = 6, clear surface = 7\")"
      ],
      "execution_count": 129,
      "outputs": [
        {
          "output_type": "stream",
          "text": [
            "Номер дефекта: 6 для 1 изображения\n",
            "Номер дефекта: 6 для 2 изображения\n",
            "Номер дефекта: 6 для 3 изображения\n",
            "Номер дефекта: 6 для 4 изображения\n",
            "Время выполнения операции =  0.0016942024230957031  c\n",
            "Расшифровка: crazing = 1, inclusion = 2, patches = 3, plitted surface = 4, rolled in scale = 5, scratches = 6, clear surface = 7\n"
          ],
          "name": "stdout"
        },
        {
          "output_type": "display_data",
          "data": {
            "text/plain": [
              "<Figure size 1152x648 with 0 Axes>"
            ]
          },
          "metadata": {
            "tags": []
          }
        }
      ]
    },
    {
      "cell_type": "markdown",
      "metadata": {
        "id": "A4KvVGijzGLZ"
      },
      "source": [
        "Если требуется очистка папки с фрагментами, то запустить данную ячейку, в противном случае пропустить"
      ]
    },
    {
      "cell_type": "code",
      "metadata": {
        "colab": {
          "base_uri": "https://localhost:8080/"
        },
        "id": "mBvL8hLW1u6F",
        "outputId": "203c6891-7de0-4314-f91f-7115444656eb"
      },
      "source": [
        "import os, shutil\n",
        "folder = 'Fragments/ForTest'\n",
        "\n",
        "print(\"Удалить содержимое папки Fragments? 1/0\")\n",
        "delete = int(input())\n",
        "if (delete == 1):\n",
        "  for the_file in os.listdir(folder):\n",
        "    file_path = os.path.join(folder, the_file)\n",
        "    try:\n",
        "        if os.path.isfile(file_path):\n",
        "            os.unlink(file_path)\n",
        "        #elif os.path.isdir(file_path): shutil.rmtree(file_path)\n",
        "    except Exception as e:\n",
        "        print(e)\n",
        "else:\n",
        "  print('Ок, не удаляем')"
      ],
      "execution_count": 93,
      "outputs": [
        {
          "output_type": "stream",
          "text": [
            "Удалить содержимое папки Fragments? 1/0\n",
            "1\n"
          ],
          "name": "stdout"
        }
      ]
    },
    {
      "cell_type": "markdown",
      "metadata": {
        "id": "QvUcLRikmyku"
      },
      "source": [
        "##Постоим графики оценки количества дефектов"
      ]
    },
    {
      "cell_type": "code",
      "metadata": {
        "colab": {
          "base_uri": "https://localhost:8080/"
        },
        "id": "XCgJX3I5nDzR",
        "outputId": "64258144-b0e1-44a9-ba8b-8031888b0859"
      },
      "source": [
        "persent_of_clear_surface = ((number_of_fragments_img) - len(massive_of_defects)) / (number_of_fragments_img) * 100 #Процент чистых фрагментов\n",
        "print('Процент фрагментов чистой поверхности: ' + str(persent_of_clear_surface) + ' %')"
      ],
      "execution_count": 130,
      "outputs": [
        {
          "output_type": "stream",
          "text": [
            "Процент фрагментов чистой поверхности: 75.0 %\n"
          ],
          "name": "stdout"
        }
      ]
    },
    {
      "cell_type": "code",
      "metadata": {
        "colab": {
          "base_uri": "https://localhost:8080/",
          "height": 920
        },
        "id": "_C4sDdfitQkY",
        "outputId": "daada465-ab47-4626-9663-7f833aed0c8a"
      },
      "source": [
        "import seaborn as sns\n",
        "\n",
        "x = ['crazing', 'inclusion', 'patches', 'plitted_surface', 'rolled_in_scale', 'scratches']\n",
        "y = []\n",
        "y2 = [10, 1, 4, 5, 1, 13]\n",
        "\n",
        "crazing = 0\n",
        "inclusion  = 0\n",
        "patches = 0\n",
        "plitted_surface = 0\n",
        "rolled_in_scale = 0\n",
        "scratches = 0\n",
        "\n",
        "#Посчитаем количество дефектов каждого вида\n",
        "for iter in range(len(massive_of_defects)):\n",
        "  if massive_of_defects[iter] == 1:\n",
        "    crazing += 1\n",
        "  elif massive_of_defects[iter] == 2:\n",
        "    inclusion += 1\n",
        "  elif massive_of_defects[iter] == 3:\n",
        "    patches += 1\n",
        "  elif massive_of_defects[iter] == 4:\n",
        "    plitted_surface += 1\n",
        "  elif massive_of_defects[iter] == 5:\n",
        "    rolled_in_scale += 1\n",
        "  elif massive_of_defects[iter] == 6:\n",
        "    scratches += 1\n",
        "\n",
        "#добавим количество в массив\n",
        "y.append(crazing) \n",
        "y.append(inclusion)\n",
        "y.append(patches)\n",
        "y.append(plitted_surface)\n",
        "y.append(rolled_in_scale)\n",
        "y.append(scratches)\n",
        "\n",
        "#Построим гистограмму\n",
        "fig, ax = plt.subplots()\n",
        "ax.bar(x, y)\n",
        "plt.title('Распределение дефектов')\n",
        "plt.xlabel('Дефект')\n",
        "plt.ylabel('Количество')\n",
        "ax.set_facecolor('white')\n",
        "fig.set_facecolor('white')\n",
        "fig.set_figwidth(12)    #Ширина графика\n",
        "fig.set_figheight(8)    #Высота графика\n",
        "#plt.grid(True) #Раскоментировать, если требуется сетка\n",
        "\n",
        "#Построим классический график\n",
        "fig = plt.figure(figsize=(10, 6))\n",
        "plt.grid()\n",
        "plt.title('Распределение дефектов')\n",
        "plt.xlabel('Дефект')\n",
        "plt.ylabel('Количество')\n",
        "plt.plot(x, y)"
      ],
      "execution_count": 131,
      "outputs": [
        {
          "output_type": "execute_result",
          "data": {
            "text/plain": [
              "[<matplotlib.lines.Line2D at 0x7f529d8b4a50>]"
            ]
          },
          "metadata": {
            "tags": []
          },
          "execution_count": 131
        },
        {
          "output_type": "display_data",
          "data": {
            "image/png": "[encoded data removed]",
            "text/plain": [
              "<Figure size 864x576 with 1 Axes>"
            ]
          },
          "metadata": {
            "tags": []
          }
        },
        {
          "output_type": "display_data",
          "data": {
            "image/png": "[encoded data removed]",
            "text/plain": [
              "<Figure size 720x432 with 1 Axes>"
            ]
          },
          "metadata": {
            "tags": [],
            "needs_background": "light"
          }
        }
      ]
    },
    {
      "cell_type": "markdown",
      "metadata": {
        "id": "gtq3_6riukOd"
      },
      "source": [
        "##Приcвоение качества в соответствии с ГОСТ 5246-2016, табл 10."
      ]
    },
    {
      "cell_type": "code",
      "metadata": {
        "id": "fB_BrqNnlAr_"
      },
      "source": [
        ""
      ],
      "execution_count": null,
      "outputs": []
    },
    {
      "cell_type": "markdown",
      "metadata": {
        "id": "kz6Ige-lk84O"
      },
      "source": [
        "#Лишнее"
      ]
    },
    {
      "cell_type": "code",
      "metadata": {
        "id": "ZJgayNYog4VI",
        "colab": {
          "base_uri": "https://localhost:8080/"
        },
        "outputId": "14d6f7b8-dc58-46b4-ac4c-e095d42b7c13"
      },
      "source": [
        "from PIL import Image\n",
        "\n",
        "start_time = time.time()\n",
        "massive_of_defects = []\n",
        "\n",
        "for idx in range(number_of_fragments_img):\n",
        "  name = 'Fragments/' + \"Cropped_\" + str(idx + 1) + '.jpg'\n",
        "  imagine = np.asarray(Image.open(name))\n",
        "  y_pred_2 = Loading_model.predict(imagine[None,:,:])\n",
        "  pred_idx_2 = np.argmax(y_pred_2[idx - 1])\n",
        "  print('Номер дефекта: '+ str(pred_idx_2) + ' для ' + str(idx + 1) + ' изображения')\n",
        "  if (pred_idx_2 != 7):\n",
        "    massive_of_defects.append(pred_idx_2)\n",
        "\n",
        "print(\"Время выполнения ячейки кода = \", (time.time() - start_time), ' c')\n",
        "print(\"Расшифровка: crazing = 1, inclusion = 2, patches = 3, plitted surface = 4, rolled in scale = 5, scratches = 6, clear surface = 7\")"
      ],
      "execution_count": 67,
      "outputs": [
        {
          "output_type": "stream",
          "text": [
            "Номер дефекта: 6 для 1 изображения\n",
            "Время выполнения ячейки кода =  0.05936145782470703  c\n",
            "Расшифровка: crazing = 1, inclusion = 2, patches = 3, plitted surface = 4, rolled in scale = 5, scratches = 6, clear surface = 7\n"
          ],
          "name": "stdout"
        }
      ]
    }
  ]
}